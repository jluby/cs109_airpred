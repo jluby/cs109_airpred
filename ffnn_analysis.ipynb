{
 "cells": [
  {
   "cell_type": "markdown",
   "metadata": {},
   "source": [
    "# <img style=\"float: left; padding-right: 10px; width: 45px\" src=\"https://raw.githubusercontent.com/Harvard-IACS/2018-CS109A/master/content/styles/iacs.png\"> CS-109A Introduction to Data Science \n",
    "\n",
    "\n",
    "## Fine Particulate Air Pollution and COVID-19\n",
    "\n",
    "**Harvard University**<br>\n",
    "**Spring 2020**<br>\n",
    "Jack Luby, Hakeem Angulu, and Louie Ayre <br>\n",
    "\n",
    "---\n",
    "\n"
   ]
  },
  {
   "cell_type": "markdown",
   "metadata": {},
   "source": [
    "### The Problem\n",
    "\n",
    "Fine particulate matter (PM$_{2.5}$) is an air pollutant which has been shown to increase the risk of mortality and hospitalization in exposed populations. \n",
    "\n",
    "The fine inhalable particles of PM$_{2.5}$ impact communitites at the local level, incrementally decreasing their life expectancies as ambient concentrations of the pollutant rise. Despite their adverse effects, concentrations of PM$_{2.5}$ are not well monitored throughout much of the United States (especially in regions of low population density). As a result, many communities (and their care providers) are unaware of the life-shortening ambient concentrations of PM$_{2.5}$ they breathe each day. \n",
    "\n",
    "These risks have been heightened by the coronavirus pandemic. COVID-19 is primarily a respiratory disease, and PM$_{2.5}$'s adverse effects on respiratory potential have been theorized and shown to increase the likelihood of developing COVID-19. It is apparent that high concentrations of PM$_{2.5}$ are likely to be founded in rural and low-income communities and communities of color. In addition, the US healthcare and social systems have long underserved those communities. The combination of these factors creates an especially bad prognosis for those communities, and necessitates further study and rapid policy and healthcare interventions.\n",
    "\n",
    "### Our Project\n",
    "\n",
    "With PM$_{2.5}$ data and COVID-19 data at hand, this project seeks to understand the relationships between PM$_{2.5}$ pollution, demographic and socioeconomic factors, and COVID-19, with a particular focus on rural and low-income communities, and communities of color."
   ]
  },
  {
   "cell_type": "markdown",
   "metadata": {},
   "source": [
    "# Feed Forward Neural Network Modeling and Analysis"
   ]
  },
  {
   "cell_type": "code",
   "execution_count": 2,
   "metadata": {},
   "outputs": [
    {
     "data": {
      "text/html": [
       "<style>\n",
       "blockquote { background: #AEDE94; }\n",
       "h1 { \n",
       "    padding-top: 25px;\n",
       "    padding-bottom: 25px;\n",
       "    text-align: left; \n",
       "    padding-left: 10px;\n",
       "    background-color: #DDDDDD; \n",
       "    color: black;\n",
       "}\n",
       "h2 { \n",
       "    padding-top: 10px;\n",
       "    padding-bottom: 10px;\n",
       "    text-align: left; \n",
       "    padding-left: 5px;\n",
       "    background-color: #EEEEEE; \n",
       "    color: black;\n",
       "}\n",
       "\n",
       "div.exercise {\n",
       "\tbackground-color: #ffcccc;\n",
       "\tborder-color: #E9967A; \t\n",
       "\tborder-left: 5px solid #800080; \n",
       "\tpadding: 0.5em;\n",
       "}\n",
       "\n",
       "span.sub-q {\n",
       "\tfont-weight: bold;\n",
       "}\n",
       "div.theme {\n",
       "\tbackground-color: #DDDDDD;\n",
       "\tborder-color: #E9967A; \t\n",
       "\tborder-left: 5px solid #800080; \n",
       "\tpadding: 0.5em;\n",
       "\tfont-size: 18pt;\n",
       "}\n",
       "div.gc { \n",
       "\tbackground-color: #AEDE94;\n",
       "\tborder-color: #E9967A; \t \n",
       "\tborder-left: 5px solid #800080; \n",
       "\tpadding: 0.5em;\n",
       "\tfont-size: 12pt;\n",
       "}\n",
       "p.q1 { \n",
       "    padding-top: 5px;\n",
       "    padding-bottom: 5px;\n",
       "    text-align: left; \n",
       "    padding-left: 5px;\n",
       "    background-color: #EEEEEE; \n",
       "    color: black;\n",
       "}\n",
       "header {\n",
       "   padding-top: 35px;\n",
       "    padding-bottom: 35px;\n",
       "    text-align: left; \n",
       "    padding-left: 10px;\n",
       "    background-color: #DDDDDD; \n",
       "    color: black;\n",
       "}\n",
       "</style>\n",
       "\n"
      ],
      "text/plain": [
       "<IPython.core.display.HTML object>"
      ]
     },
     "execution_count": 2,
     "metadata": {},
     "output_type": "execute_result"
    }
   ],
   "source": [
    "## Set formatting to CS109 standard\n",
    "import requests\n",
    "from IPython.core.display import HTML\n",
    "styles = requests.get(\"https://raw.githubusercontent.com/Harvard-IACS/2018-CS109A/master/content/styles/cs109.css\").text\n",
    "HTML(styles)"
   ]
  },
  {
   "cell_type": "code",
   "execution_count": 1,
   "metadata": {},
   "outputs": [],
   "source": [
    "# The classics\n",
    "import pandas as pd\n",
    "import numpy as np\n",
    "from sklearn import preprocessing\n",
    "from sklearn.model_selection import train_test_split\n",
    "\n",
    "import matplotlib.pyplot as plt\n",
    "import seaborn as sns\n",
    "from datetime import datetime as dt"
   ]
  },
  {
   "cell_type": "code",
   "execution_count": 3,
   "metadata": {},
   "outputs": [
    {
     "name": "stdout",
     "output_type": "stream",
     "text": [
      "2.2.4-tf\n",
      "2.1.0\n"
     ]
    }
   ],
   "source": [
    "# Neural Network imports\n",
    "import tensorflow as tf\n",
    "\n",
    "from tensorflow.keras import backend\n",
    "from tensorflow.keras.models import model_from_json\n",
    "\n",
    "print(tf.keras.__version__)\n",
    "print(tf.__version__)"
   ]
  },
  {
   "cell_type": "markdown",
   "metadata": {},
   "source": [
    "## Data Import"
   ]
  },
  {
   "cell_type": "code",
   "execution_count": 83,
   "metadata": {},
   "outputs": [],
   "source": [
    "main_df = pd.read_csv(\"data/unnormalized.csv\")"
   ]
  },
  {
   "cell_type": "code",
   "execution_count": 84,
   "metadata": {},
   "outputs": [
    {
     "data": {
      "text/html": [
       "<div>\n",
       "<style scoped>\n",
       "    .dataframe tbody tr th:only-of-type {\n",
       "        vertical-align: middle;\n",
       "    }\n",
       "\n",
       "    .dataframe tbody tr th {\n",
       "        vertical-align: top;\n",
       "    }\n",
       "\n",
       "    .dataframe thead th {\n",
       "        text-align: right;\n",
       "    }\n",
       "</style>\n",
       "<table border=\"1\" class=\"dataframe\">\n",
       "  <thead>\n",
       "    <tr style=\"text-align: right;\">\n",
       "      <th></th>\n",
       "      <th>fips</th>\n",
       "      <th>pm25</th>\n",
       "      <th>poverty</th>\n",
       "      <th>pop_density</th>\n",
       "      <th>med_house_value</th>\n",
       "      <th>pct_blk</th>\n",
       "      <th>med_household_income</th>\n",
       "      <th>pct_owner_occ</th>\n",
       "      <th>pct_hispanic</th>\n",
       "      <th>education</th>\n",
       "      <th>...</th>\n",
       "      <th>days_since_shelter_in_place</th>\n",
       "      <th>days_since_closing_non-essential_businesses</th>\n",
       "      <th>religious_gatherings_exempt</th>\n",
       "      <th>liquor_stores_open</th>\n",
       "      <th>firearms_sellers_open</th>\n",
       "      <th>days_since_closing_restaurants_except_takeout</th>\n",
       "      <th>days_since_closing_gyms</th>\n",
       "      <th>days_since_closing_movie_theaters</th>\n",
       "      <th>froze_evictions</th>\n",
       "      <th>order_freezing_utility_shutoffs</th>\n",
       "    </tr>\n",
       "  </thead>\n",
       "  <tbody>\n",
       "    <tr>\n",
       "      <th>0</th>\n",
       "      <td>1001</td>\n",
       "      <td>8.548029</td>\n",
       "      <td>0.153784</td>\n",
       "      <td>92.859925</td>\n",
       "      <td>147900.0</td>\n",
       "      <td>0.191395</td>\n",
       "      <td>58786.0</td>\n",
       "      <td>0.748946</td>\n",
       "      <td>0.027681</td>\n",
       "      <td>0.201884</td>\n",
       "      <td>...</td>\n",
       "      <td>36</td>\n",
       "      <td>43</td>\n",
       "      <td>0</td>\n",
       "      <td>1</td>\n",
       "      <td>1</td>\n",
       "      <td>52</td>\n",
       "      <td>43</td>\n",
       "      <td>43</td>\n",
       "      <td>0</td>\n",
       "      <td>0</td>\n",
       "    </tr>\n",
       "    <tr>\n",
       "      <th>1</th>\n",
       "      <td>1003</td>\n",
       "      <td>7.522474</td>\n",
       "      <td>0.105661</td>\n",
       "      <td>130.901888</td>\n",
       "      <td>189800.0</td>\n",
       "      <td>0.094970</td>\n",
       "      <td>55962.0</td>\n",
       "      <td>0.736193</td>\n",
       "      <td>0.044943</td>\n",
       "      <td>0.182423</td>\n",
       "      <td>...</td>\n",
       "      <td>36</td>\n",
       "      <td>43</td>\n",
       "      <td>0</td>\n",
       "      <td>1</td>\n",
       "      <td>1</td>\n",
       "      <td>52</td>\n",
       "      <td>43</td>\n",
       "      <td>43</td>\n",
       "      <td>0</td>\n",
       "      <td>0</td>\n",
       "    </tr>\n",
       "    <tr>\n",
       "      <th>2</th>\n",
       "      <td>1005</td>\n",
       "      <td>8.085884</td>\n",
       "      <td>0.288633</td>\n",
       "      <td>29.132136</td>\n",
       "      <td>92900.0</td>\n",
       "      <td>0.475758</td>\n",
       "      <td>34186.0</td>\n",
       "      <td>0.613978</td>\n",
       "      <td>0.042898</td>\n",
       "      <td>0.315394</td>\n",
       "      <td>...</td>\n",
       "      <td>36</td>\n",
       "      <td>43</td>\n",
       "      <td>0</td>\n",
       "      <td>1</td>\n",
       "      <td>1</td>\n",
       "      <td>52</td>\n",
       "      <td>43</td>\n",
       "      <td>43</td>\n",
       "      <td>0</td>\n",
       "      <td>0</td>\n",
       "    </tr>\n",
       "    <tr>\n",
       "      <th>3</th>\n",
       "      <td>1007</td>\n",
       "      <td>8.746719</td>\n",
       "      <td>0.139877</td>\n",
       "      <td>36.190198</td>\n",
       "      <td>96500.0</td>\n",
       "      <td>0.222755</td>\n",
       "      <td>45340.0</td>\n",
       "      <td>0.750731</td>\n",
       "      <td>0.024282</td>\n",
       "      <td>0.244739</td>\n",
       "      <td>...</td>\n",
       "      <td>36</td>\n",
       "      <td>43</td>\n",
       "      <td>0</td>\n",
       "      <td>1</td>\n",
       "      <td>1</td>\n",
       "      <td>52</td>\n",
       "      <td>43</td>\n",
       "      <td>43</td>\n",
       "      <td>0</td>\n",
       "      <td>0</td>\n",
       "    </tr>\n",
       "    <tr>\n",
       "      <th>4</th>\n",
       "      <td>1009</td>\n",
       "      <td>8.215674</td>\n",
       "      <td>0.144003</td>\n",
       "      <td>89.395550</td>\n",
       "      <td>124700.0</td>\n",
       "      <td>0.014954</td>\n",
       "      <td>48695.0</td>\n",
       "      <td>0.786262</td>\n",
       "      <td>0.091266</td>\n",
       "      <td>0.268941</td>\n",
       "      <td>...</td>\n",
       "      <td>36</td>\n",
       "      <td>43</td>\n",
       "      <td>0</td>\n",
       "      <td>1</td>\n",
       "      <td>1</td>\n",
       "      <td>52</td>\n",
       "      <td>43</td>\n",
       "      <td>43</td>\n",
       "      <td>0</td>\n",
       "      <td>0</td>\n",
       "    </tr>\n",
       "  </tbody>\n",
       "</table>\n",
       "<p>5 rows × 31 columns</p>\n",
       "</div>"
      ],
      "text/plain": [
       "   fips      pm25   poverty  pop_density  med_house_value   pct_blk  \\\n",
       "0  1001  8.548029  0.153784    92.859925         147900.0  0.191395   \n",
       "1  1003  7.522474  0.105661   130.901888         189800.0  0.094970   \n",
       "2  1005  8.085884  0.288633    29.132136          92900.0  0.475758   \n",
       "3  1007  8.746719  0.139877    36.190198          96500.0  0.222755   \n",
       "4  1009  8.215674  0.144003    89.395550         124700.0  0.014954   \n",
       "\n",
       "   med_household_income  pct_owner_occ  pct_hispanic  education  ...  \\\n",
       "0               58786.0       0.748946      0.027681   0.201884  ...   \n",
       "1               55962.0       0.736193      0.044943   0.182423  ...   \n",
       "2               34186.0       0.613978      0.042898   0.315394  ...   \n",
       "3               45340.0       0.750731      0.024282   0.244739  ...   \n",
       "4               48695.0       0.786262      0.091266   0.268941  ...   \n",
       "\n",
       "   days_since_shelter_in_place  days_since_closing_non-essential_businesses  \\\n",
       "0                           36                                           43   \n",
       "1                           36                                           43   \n",
       "2                           36                                           43   \n",
       "3                           36                                           43   \n",
       "4                           36                                           43   \n",
       "\n",
       "   religious_gatherings_exempt  liquor_stores_open  firearms_sellers_open  \\\n",
       "0                            0                   1                      1   \n",
       "1                            0                   1                      1   \n",
       "2                            0                   1                      1   \n",
       "3                            0                   1                      1   \n",
       "4                            0                   1                      1   \n",
       "\n",
       "   days_since_closing_restaurants_except_takeout  days_since_closing_gyms  \\\n",
       "0                                             52                       43   \n",
       "1                                             52                       43   \n",
       "2                                             52                       43   \n",
       "3                                             52                       43   \n",
       "4                                             52                       43   \n",
       "\n",
       "   days_since_closing_movie_theaters  froze_evictions  \\\n",
       "0                                 43                0   \n",
       "1                                 43                0   \n",
       "2                                 43                0   \n",
       "3                                 43                0   \n",
       "4                                 43                0   \n",
       "\n",
       "   order_freezing_utility_shutoffs  \n",
       "0                                0  \n",
       "1                                0  \n",
       "2                                0  \n",
       "3                                0  \n",
       "4                                0  \n",
       "\n",
       "[5 rows x 31 columns]"
      ]
     },
     "execution_count": 84,
     "metadata": {},
     "output_type": "execute_result"
    }
   ],
   "source": [
    "main_df.head()"
   ]
  },
  {
   "cell_type": "code",
   "execution_count": 85,
   "metadata": {},
   "outputs": [],
   "source": [
    "responses = ['confirmed_covid_cases', 'covid_deaths', 'covid_recoveries']\n",
    "\n",
    "X_train, X_test, y_train, y_test = train_test_split(main_df.drop(responses + ['fips'], axis=1),\n",
    "                                                    main_df[responses], test_size=0.2,\n",
    "                                                    random_state=109)"
   ]
  },
  {
   "cell_type": "code",
   "execution_count": 86,
   "metadata": {},
   "outputs": [
    {
     "data": {
      "text/plain": [
       "(2272, 27)"
      ]
     },
     "execution_count": 86,
     "metadata": {},
     "output_type": "execute_result"
    }
   ],
   "source": [
    "X_train.shape"
   ]
  },
  {
   "cell_type": "code",
   "execution_count": 87,
   "metadata": {},
   "outputs": [
    {
     "data": {
      "text/plain": [
       "(2272, 3)"
      ]
     },
     "execution_count": 87,
     "metadata": {},
     "output_type": "execute_result"
    }
   ],
   "source": [
    "y_train.shape"
   ]
  },
  {
   "cell_type": "markdown",
   "metadata": {},
   "source": [
    "## Model Definition"
   ]
  },
  {
   "cell_type": "code",
   "execution_count": 220,
   "metadata": {},
   "outputs": [],
   "source": [
    "# Hyperparameters\n",
    "n_predictors = X_train.shape[-1]\n",
    "n_responses = y_train.shape[-1]\n",
    "drop_rate = .1\n",
    "\n",
    "optimizer = \"adam\"\n",
    "loss = \"mse\"\n",
    "metrics = [\"accuracy\"]\n",
    "\n",
    "batch_size = 1\n",
    "epochs = 15\n",
    "validation_split = 0.1\n",
    "verbose = 2"
   ]
  },
  {
   "cell_type": "code",
   "execution_count": 221,
   "metadata": {},
   "outputs": [],
   "source": [
    "# Define model\n",
    "model = tf.keras.Sequential()\n",
    "model.add(tf.keras.layers.Dense(n_predictors, activation=\"relu\", input_dim=27))\n",
    "model.add(tf.keras.layers.Dropout(drop_rate))\n",
    "model.add(tf.keras.layers.Dense(n_responses, activation=\"linear\"))\n",
    "\n",
    "# Compile model\n",
    "model.compile(optimizer=optimizer, loss=loss, metrics=metrics)"
   ]
  },
  {
   "cell_type": "code",
   "execution_count": 222,
   "metadata": {},
   "outputs": [
    {
     "name": "stdout",
     "output_type": "stream",
     "text": [
      "Model: \"sequential_23\"\n",
      "_________________________________________________________________\n",
      "Layer (type)                 Output Shape              Param #   \n",
      "=================================================================\n",
      "dense_56 (Dense)             (None, 27)                756       \n",
      "_________________________________________________________________\n",
      "dropout_23 (Dropout)         (None, 27)                0         \n",
      "_________________________________________________________________\n",
      "dense_57 (Dense)             (None, 3)                 84        \n",
      "=================================================================\n",
      "Total params: 840\n",
      "Trainable params: 840\n",
      "Non-trainable params: 0\n",
      "_________________________________________________________________\n"
     ]
    }
   ],
   "source": [
    "model.summary()"
   ]
  },
  {
   "cell_type": "markdown",
   "metadata": {},
   "source": [
    "## Model Training"
   ]
  },
  {
   "cell_type": "code",
   "execution_count": 216,
   "metadata": {},
   "outputs": [],
   "source": [
    "# Define early stopping callback\n",
    "es = tf.keras.callbacks.EarlyStopping(monitor='val_loss', mode='min', verbose=1, patience=3)"
   ]
  },
  {
   "cell_type": "code",
   "execution_count": 249,
   "metadata": {},
   "outputs": [],
   "source": [
    "# Don't re-train\n",
    "# history = model.fit(X_train, y_train, batch_size=batch_size, epochs=epochs, \n",
    "#                     validation_split=validation_split, verbose=verbose)"
   ]
  },
  {
   "cell_type": "markdown",
   "metadata": {},
   "source": [
    "## Model Analysis"
   ]
  },
  {
   "cell_type": "code",
   "execution_count": 239,
   "metadata": {},
   "outputs": [],
   "source": [
    "# Plot history\n",
    "def plot_loss(history):\n",
    "    loss = history['loss']\n",
    "    val_loss = history['val_loss']\n",
    "    epochs = range(1, len(loss) + 1)\n",
    "\n",
    "    plt.figure(figsize=(12, 8))\n",
    "    plt.plot(epochs, loss, 'b-', label='Training Loss')\n",
    "    plt.plot(epochs, val_loss, 'b--', label='Validation Loss')\n",
    "    plt.title('Training and Validation Loss')\n",
    "    plt.xlabel('epoch')\n",
    "    plt.legend()\n",
    "    plt.show()"
   ]
  },
  {
   "cell_type": "code",
   "execution_count": 238,
   "metadata": {},
   "outputs": [],
   "source": [
    "# Plot history\n",
    "def plot_accuracy(history):\n",
    "    accuracy = history['accuracy']\n",
    "    val_accuracy = history['val_accuracy']\n",
    "    epochs = range(1, len(accuracy) + 1)\n",
    "\n",
    "    plt.figure(figsize=(12, 8))\n",
    "    plt.plot(epochs, accuracy, 'g-', label='Training Accuracy')\n",
    "    plt.plot(epochs, val_accuracy, 'g--', label='Validation Accuracy')\n",
    "    plt.title('Training and Validation Accuracy')\n",
    "    plt.xlabel('epoch')\n",
    "    plt.legend()\n",
    "    plt.show()"
   ]
  },
  {
   "cell_type": "code",
   "execution_count": 203,
   "metadata": {},
   "outputs": [],
   "source": [
    "# Store model\n",
    "def store_keras_model(model, model_name):\n",
    "    model_json = model.to_json() # serialize model to JSON\n",
    "    with open(\"./models/{}.json\".format(model_name), \"w\") as json_file:\n",
    "        json_file.write(model_json)\n",
    "    model.save_weights(\"./models/{}.h5\".format(model_name)) # serialize weights to HDF5\n",
    "    print(\"Saved model to disk\")\n",
    "    \n",
    "# Load model \n",
    "def load_keras_model(model_name):\n",
    "    # Load json and create model\n",
    "    json_file = open('./models/{}.json'.format(model_name), 'r')\n",
    "    loaded_model_json = json_file.read()\n",
    "    json_file.close()\n",
    "    model = tf.keras.models.model_from_json(loaded_model_json)\n",
    "    # Load weights into new model\n",
    "    model.load_weights(\"./models/{}.h5\".format(model_name))\n",
    "    return model"
   ]
  },
  {
   "cell_type": "code",
   "execution_count": 251,
   "metadata": {},
   "outputs": [],
   "source": [
    "# Save training history\n",
    "# hist_df = pd.DataFrame(history.history)\n",
    "# hist_df.to_csv(\"models/history_ffnn.csv\", index=False)"
   ]
  },
  {
   "cell_type": "code",
   "execution_count": 250,
   "metadata": {},
   "outputs": [],
   "source": [
    "# Save model\n",
    "# store_keras_model(model, 'model_FFNN')"
   ]
  },
  {
   "cell_type": "code",
   "execution_count": 246,
   "metadata": {},
   "outputs": [],
   "source": [
    "# Load history\n",
    "history = pd.read_csv(\"models/history_ffnn.csv\")"
   ]
  },
  {
   "cell_type": "code",
   "execution_count": 247,
   "metadata": {},
   "outputs": [
    {
     "data": {
      "image/png": "[encoded data removed]",
      "text/plain": [
       "<Figure size 864x576 with 1 Axes>"
      ]
     },
     "metadata": {
      "needs_background": "light"
     },
     "output_type": "display_data"
    }
   ],
   "source": [
    "plot_loss(history)"
   ]
  },
  {
   "cell_type": "code",
   "execution_count": 248,
   "metadata": {},
   "outputs": [
    {
     "data": {
      "image/png": "[encoded data removed]",
      "text/plain": [
       "<Figure size 864x576 with 1 Axes>"
      ]
     },
     "metadata": {
      "needs_background": "light"
     },
     "output_type": "display_data"
    }
   ],
   "source": [
    "plot_accuracy(history)"
   ]
  },
  {
   "cell_type": "code",
   "execution_count": 260,
   "metadata": {},
   "outputs": [],
   "source": [
    "# Load model\n",
    "model = load_keras_model(\"model_FFNN\")"
   ]
  },
  {
   "cell_type": "code",
   "execution_count": 261,
   "metadata": {},
   "outputs": [],
   "source": [
    "predicted_cols = ['predicted_' + x for x in ['confirmed', 'deaths', 'recoveries']]"
   ]
  },
  {
   "cell_type": "code",
   "execution_count": 262,
   "metadata": {},
   "outputs": [],
   "source": [
    "model_predictions = pd.DataFrame(model.predict(X_test), columns=predicted_cols)\n",
    "test_results = pd.concat([model_predictions, y_test.reset_index(drop=True)], axis=1)"
   ]
  },
  {
   "cell_type": "code",
   "execution_count": 263,
   "metadata": {},
   "outputs": [
    {
     "data": {
      "text/html": [
       "<div>\n",
       "<style scoped>\n",
       "    .dataframe tbody tr th:only-of-type {\n",
       "        vertical-align: middle;\n",
       "    }\n",
       "\n",
       "    .dataframe tbody tr th {\n",
       "        vertical-align: top;\n",
       "    }\n",
       "\n",
       "    .dataframe thead th {\n",
       "        text-align: right;\n",
       "    }\n",
       "</style>\n",
       "<table border=\"1\" class=\"dataframe\">\n",
       "  <thead>\n",
       "    <tr style=\"text-align: right;\">\n",
       "      <th></th>\n",
       "      <th>predicted_confirmed</th>\n",
       "      <th>predicted_deaths</th>\n",
       "      <th>predicted_recoveries</th>\n",
       "      <th>confirmed_covid_cases</th>\n",
       "      <th>covid_deaths</th>\n",
       "      <th>covid_recoveries</th>\n",
       "    </tr>\n",
       "  </thead>\n",
       "  <tbody>\n",
       "    <tr>\n",
       "      <th>0</th>\n",
       "      <td>-33.632271</td>\n",
       "      <td>-7.558352</td>\n",
       "      <td>-57.783115</td>\n",
       "      <td>15</td>\n",
       "      <td>0</td>\n",
       "      <td>0</td>\n",
       "    </tr>\n",
       "    <tr>\n",
       "      <th>1</th>\n",
       "      <td>474.062164</td>\n",
       "      <td>97.848793</td>\n",
       "      <td>-41.271408</td>\n",
       "      <td>28</td>\n",
       "      <td>0</td>\n",
       "      <td>0</td>\n",
       "    </tr>\n",
       "    <tr>\n",
       "      <th>2</th>\n",
       "      <td>156.811905</td>\n",
       "      <td>32.380405</td>\n",
       "      <td>11.580235</td>\n",
       "      <td>39</td>\n",
       "      <td>0</td>\n",
       "      <td>0</td>\n",
       "    </tr>\n",
       "    <tr>\n",
       "      <th>3</th>\n",
       "      <td>0.096133</td>\n",
       "      <td>-0.199398</td>\n",
       "      <td>-0.261109</td>\n",
       "      <td>2</td>\n",
       "      <td>0</td>\n",
       "      <td>0</td>\n",
       "    </tr>\n",
       "    <tr>\n",
       "      <th>4</th>\n",
       "      <td>803.948303</td>\n",
       "      <td>166.925751</td>\n",
       "      <td>62.299843</td>\n",
       "      <td>37</td>\n",
       "      <td>2</td>\n",
       "      <td>0</td>\n",
       "    </tr>\n",
       "    <tr>\n",
       "      <th>...</th>\n",
       "      <td>...</td>\n",
       "      <td>...</td>\n",
       "      <td>...</td>\n",
       "      <td>...</td>\n",
       "      <td>...</td>\n",
       "      <td>...</td>\n",
       "    </tr>\n",
       "    <tr>\n",
       "      <th>564</th>\n",
       "      <td>43.798534</td>\n",
       "      <td>8.652936</td>\n",
       "      <td>-33.858593</td>\n",
       "      <td>14</td>\n",
       "      <td>0</td>\n",
       "      <td>0</td>\n",
       "    </tr>\n",
       "    <tr>\n",
       "      <th>565</th>\n",
       "      <td>1324.771362</td>\n",
       "      <td>275.666351</td>\n",
       "      <td>175.479385</td>\n",
       "      <td>31</td>\n",
       "      <td>4</td>\n",
       "      <td>0</td>\n",
       "    </tr>\n",
       "    <tr>\n",
       "      <th>566</th>\n",
       "      <td>2632.350586</td>\n",
       "      <td>547.796814</td>\n",
       "      <td>321.232513</td>\n",
       "      <td>685</td>\n",
       "      <td>46</td>\n",
       "      <td>0</td>\n",
       "    </tr>\n",
       "    <tr>\n",
       "      <th>567</th>\n",
       "      <td>236.099838</td>\n",
       "      <td>48.823139</td>\n",
       "      <td>11.154905</td>\n",
       "      <td>35</td>\n",
       "      <td>0</td>\n",
       "      <td>0</td>\n",
       "    </tr>\n",
       "    <tr>\n",
       "      <th>568</th>\n",
       "      <td>98.268570</td>\n",
       "      <td>20.202480</td>\n",
       "      <td>6.002010</td>\n",
       "      <td>6</td>\n",
       "      <td>0</td>\n",
       "      <td>0</td>\n",
       "    </tr>\n",
       "  </tbody>\n",
       "</table>\n",
       "<p>569 rows × 6 columns</p>\n",
       "</div>"
      ],
      "text/plain": [
       "     predicted_confirmed  predicted_deaths  predicted_recoveries  \\\n",
       "0             -33.632271         -7.558352            -57.783115   \n",
       "1             474.062164         97.848793            -41.271408   \n",
       "2             156.811905         32.380405             11.580235   \n",
       "3               0.096133         -0.199398             -0.261109   \n",
       "4             803.948303        166.925751             62.299843   \n",
       "..                   ...               ...                   ...   \n",
       "564            43.798534          8.652936            -33.858593   \n",
       "565          1324.771362        275.666351            175.479385   \n",
       "566          2632.350586        547.796814            321.232513   \n",
       "567           236.099838         48.823139             11.154905   \n",
       "568            98.268570         20.202480              6.002010   \n",
       "\n",
       "     confirmed_covid_cases  covid_deaths  covid_recoveries  \n",
       "0                       15             0                 0  \n",
       "1                       28             0                 0  \n",
       "2                       39             0                 0  \n",
       "3                        2             0                 0  \n",
       "4                       37             2                 0  \n",
       "..                     ...           ...               ...  \n",
       "564                     14             0                 0  \n",
       "565                     31             4                 0  \n",
       "566                    685            46                 0  \n",
       "567                     35             0                 0  \n",
       "568                      6             0                 0  \n",
       "\n",
       "[569 rows x 6 columns]"
      ]
     },
     "execution_count": 263,
     "metadata": {},
     "output_type": "execute_result"
    }
   ],
   "source": [
    "test_results"
   ]
  },
  {
   "cell_type": "markdown",
   "metadata": {},
   "source": [
    "## SHAP Analysis"
   ]
  },
  {
   "cell_type": "markdown",
   "metadata": {},
   "source": [
    "### "
   ]
  },
  {
   "cell_type": "code",
   "execution_count": null,
   "metadata": {},
   "outputs": [],
   "source": []
  }
 ],
 "metadata": {
  "anaconda-cloud": {},
  "kernelspec": {
   "display_name": "cs109b",
   "language": "python",
   "name": "cs109b"
  },
  "language_info": {
   "codemirror_mode": {
    "name": "ipython",
    "version": 3
   },
   "file_extension": ".py",
   "mimetype": "text/x-python",
   "name": "python",
   "nbconvert_exporter": "python",
   "pygments_lexer": "ipython3",
   "version": "3.7.6"
  }
 },
 "nbformat": 4,
 "nbformat_minor": 4
}
